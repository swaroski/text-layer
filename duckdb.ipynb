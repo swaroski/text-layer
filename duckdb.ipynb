{
 "cells": [
  {
   "cell_type": "code",
   "execution_count": 1,
   "id": "5dfc36c7",
   "metadata": {},
   "outputs": [
    {
     "name": "stdout",
     "output_type": "stream",
     "text": [
      "hellow\n"
     ]
    }
   ],
   "source": [
    "print(\"hellow\")"
   ]
  },
  {
   "cell_type": "code",
   "execution_count": 10,
   "id": "587394a4",
   "metadata": {},
   "outputs": [],
   "source": [
    "import duckdb\n",
    "\n",
    "con = duckdb.connect('app/data/data.db')\n",
    "\n",
    "\n"
   ]
  },
  {
   "cell_type": "code",
   "execution_count": 11,
   "id": "001aac6d",
   "metadata": {},
   "outputs": [
    {
     "name": "stdout",
     "output_type": "stream",
     "text": [
      "Tables in database:\n",
      "- account\n",
      "- customer\n",
      "- other\n",
      "- product\n",
      "- time\n",
      "- time_perspective\n",
      "- version\n"
     ]
    }
   ],
   "source": [
    "tables = con.execute(\"SHOW TABLES\").fetchall()\n",
    "print(\"Tables in database:\")\n",
    "for table in tables:\n",
    "    print(\"-\", table[0])\n"
   ]
  },
  {
   "cell_type": "code",
   "execution_count": 12,
   "id": "e433db2c",
   "metadata": {},
   "outputs": [
    {
     "name": "stdout",
     "output_type": "stream",
     "text": [
      "File exists: True\n",
      "File size: 3158016\n"
     ]
    }
   ],
   "source": [
    "import os\n",
    "\n",
    "print(\"File exists:\", os.path.isfile(\"app/data/data.db\"))\n",
    "print(\"File size:\", os.path.getsize(\"app/data/data.db\"))\n"
   ]
  },
  {
   "cell_type": "code",
   "execution_count": 13,
   "id": "221fbce0",
   "metadata": {},
   "outputs": [
    {
     "name": "stdout",
     "output_type": "stream",
     "text": [
      "Tables in DB:\n",
      "- account\n",
      "- customer\n",
      "- other\n",
      "- product\n",
      "- time\n",
      "- time_perspective\n",
      "- version\n"
     ]
    }
   ],
   "source": [
    "import duckdb\n",
    "\n",
    "con = duckdb.connect('app/data/data.db')\n",
    "\n",
    "tables = con.execute(\"SHOW TABLES\").fetchall()\n",
    "print(\"Tables in DB:\")\n",
    "for table in tables:\n",
    "    print(\"-\", table[0])\n"
   ]
  },
  {
   "cell_type": "code",
   "execution_count": 14,
   "id": "fe802b2f",
   "metadata": {},
   "outputs": [
    {
     "name": "stdout",
     "output_type": "stream",
     "text": [
      "Schemas: [('data', 'main', 'duckdb', None, None, None, None), ('system', 'information_schema', 'duckdb', None, None, None, None), ('system', 'main', 'duckdb', None, None, None, None), ('system', 'pg_catalog', 'duckdb', None, None, None, None), ('temp', 'main', 'duckdb', None, None, None, None)]\n",
      "Tables found: [('main', 'account'), ('main', 'customer'), ('main', 'other'), ('main', 'product'), ('main', 'time'), ('main', 'time_perspective'), ('main', 'version')]\n"
     ]
    }
   ],
   "source": [
    "import duckdb\n",
    "\n",
    "con = duckdb.connect('app/data/data.db')\n",
    "\n",
    "# Double-check schema content\n",
    "schemas = con.execute(\"SELECT * FROM information_schema.schemata\").fetchall()\n",
    "print(\"Schemas:\", schemas)\n",
    "\n",
    "# Check all tables again\n",
    "all_tables = con.execute(\"\"\"\n",
    "    SELECT table_schema, table_name \n",
    "    FROM information_schema.tables \n",
    "    WHERE table_type = 'BASE TABLE'\n",
    "\"\"\").fetchall()\n",
    "print(\"Tables found:\", all_tables)\n"
   ]
  },
  {
   "cell_type": "code",
   "execution_count": 16,
   "id": "bff888ed",
   "metadata": {},
   "outputs": [
    {
     "name": "stdout",
     "output_type": "stream",
     "text": [
      "\n",
      "Preview of 'account':\n",
      "    Key ParentId             Name UNARY_OPERATOR AccountType  \\\n",
      "0    40              Gross Margin              ~           1   \n",
      "1   400       40    Gross Revenue              +           1   \n",
      "2  4000      400  Product Revenue              +           1   \n",
      "3  4010      400  Service Revenue              +           1   \n",
      "4  4020      400    Other Revenue              +           1   \n",
      "\n",
      "  CalculationMethod DebitCredit LineItemRequired NonLeafInput NumericFormat  \\\n",
      "0                             1                                       #,###   \n",
      "1                             1                                       #,###   \n",
      "2                             1                                       #,###   \n",
      "3                             1                                       #,###   \n",
      "4                             1                                       #,###   \n",
      "\n",
      "  PreventDataEntry TCMethod TCFormulaMDX ProceduralCalc  \\\n",
      "0                         0                               \n",
      "1                         0                               \n",
      "2                         0            1                  \n",
      "3                         0                               \n",
      "4                         0                               \n",
      "\n",
      "  CurrencyConversionMethod  \n",
      "0                           \n",
      "1                           \n",
      "2                           \n",
      "3                           \n",
      "4                           \n",
      "\n",
      "Preview of 'customer':\n",
      "     Key ParentId          Name Channel Channel Parent Customer Since  \\\n",
      "0  C0000           Total Region                                         \n",
      "1  C1000    C0000          West                                         \n",
      "2  C2000    C0000       Midwest                                         \n",
      "3  C3000    C0000     Southeast                                         \n",
      "4  C4000    C0000     Southwest                                         \n",
      "\n",
      "  Industry Location Sales Manager Salesperson  \n",
      "0                                              \n",
      "1                                              \n",
      "2                                              \n",
      "3                                              \n",
      "4                                              \n",
      "\n",
      "Preview of 'other':\n",
      "  Key ParentId            Name\n",
      "0  NO                 No Other\n",
      "1  TP           Total Platform\n",
      "2  TV            Total Revenue\n",
      "3  Y1       TV            2025\n",
      "4  Y2       TV            2026\n",
      "\n",
      "Preview of 'product':\n",
      "      Key ParentId            Name Product Line\n",
      "0   P0000           Total Products             \n",
      "1   P1000    P0000  Product Line A             \n",
      "2  P10001    P1000      Category 1             \n",
      "3  P10002    P1000      Category 2             \n",
      "4  P10003    P1000      Category 3             \n",
      "\n",
      "Preview of 'time':\n",
      "       Name    Month StartPeriod   EndPeriod  Year Quarter  \\\n",
      "0   January  2018M01  2018-01-01  2018-01-31  2018  2018Q1   \n",
      "1  February  2018M02  2018-02-01  2018-02-28  2018  2018Q1   \n",
      "2     March  2018M03  2018-03-01  2018-03-31  2018  2018Q1   \n",
      "3     April  2018M04  2018-04-01  2018-04-30  2018  2018Q2   \n",
      "4       May  2018M05  2018-05-01  2018-05-31  2018  2018Q2   \n",
      "\n",
      "  FiscalQuarterNumber FiscalMonthNumber MonthAbbreviation  \\\n",
      "0                   1                 1               Jan   \n",
      "1                   1                 2               Feb   \n",
      "2                   1                 3               Mar   \n",
      "3                   2                 4               Apr   \n",
      "4                   2                 5               May   \n",
      "\n",
      "  FiscalMonthAbbreviationWithYear MonthWithYear  \n",
      "0                         Jan2018   January2018  \n",
      "1                         Feb2018  February2018  \n",
      "2                         Mar2018     March2018  \n",
      "3                         Apr2018     April2018  \n",
      "4                         May2018       May2018  \n",
      "\n",
      "Preview of 'time_perspective':\n",
      "    Key ParentId  Name CalculationMethod MemberType\n",
      "0  BASE           Base             Input          0\n",
      "1   YTD           Year               YTD          1\n",
      "\n",
      "Preview of 'version':\n",
      "   Key ParentId                 Name VersionType Status  \\\n",
      "0    1               Actual Versions           0          \n",
      "1    2               Budget Versions           0          \n",
      "2    3             Forecast Versions           0          \n",
      "3    4           Calculated Versions           0          \n",
      "4  ACT        1               Actual           2      1   \n",
      "\n",
      "                            RuleSet StartPeriod EndPeriod CarryForward  \\\n",
      "0                                                                        \n",
      "1                                                                        \n",
      "2                                                                        \n",
      "3                                                                        \n",
      "4  061291169d6b4ad3a5cf52f804a7a568                                      \n",
      "\n",
      "  CalculationMethod ReferenceVersion TimeLevel  \n",
      "0                                               \n",
      "1                                               \n",
      "2                                               \n",
      "3                                               \n",
      "4                                               \n"
     ]
    }
   ],
   "source": [
    "import duckdb\n",
    "\n",
    "con = duckdb.connect('app/data/data.db')\n",
    "\n",
    "tables = ['account', 'customer', 'other', 'product', 'time', 'time_perspective', 'version']\n",
    "\n",
    "for table in tables:\n",
    "    print(f\"\\nPreview of '{table}':\")\n",
    "    try:\n",
    "        df = con.execute(f\"SELECT * FROM {table} LIMIT 5\").fetchdf()\n",
    "        print(df)\n",
    "    except Exception as e:\n",
    "        print(f\"Failed to read table {table}:\", e)\n"
   ]
  },
  {
   "cell_type": "code",
   "execution_count": 17,
   "id": "3a002cdb",
   "metadata": {},
   "outputs": [
    {
     "data": {
      "text/plain": [
       "<duckdb.duckdb.DuckDBPyConnection at 0x7f25deb8b6f0>"
      ]
     },
     "execution_count": 17,
     "metadata": {},
     "output_type": "execute_result"
    }
   ],
   "source": [
    "con.execute(\"COPY customer TO 'customer.csv' (HEADER, DELIMITER ',')\")\n"
   ]
  }
 ],
 "metadata": {
  "kernelspec": {
   "display_name": ".venv",
   "language": "python",
   "name": "python3"
  },
  "language_info": {
   "codemirror_mode": {
    "name": "ipython",
    "version": 3
   },
   "file_extension": ".py",
   "mimetype": "text/x-python",
   "name": "python",
   "nbconvert_exporter": "python",
   "pygments_lexer": "ipython3",
   "version": "3.11.7"
  }
 },
 "nbformat": 4,
 "nbformat_minor": 5
}
